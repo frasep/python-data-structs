{
 "cells": [
  {
   "cell_type": "markdown",
   "id": "10ab2efb",
   "metadata": {},
   "source": [
    "# Survey analysis\n",
    "Analyse the results from the [languages survey](https://forms.gle/5b3mZRVcgAsoNG1FA)"
   ]
  },
  {
   "cell_type": "code",
   "execution_count": 1,
   "id": "415ca06e",
   "metadata": {},
   "outputs": [],
   "source": [
    "all_langs = ['Python', 'Java', 'JavaScript', 'TypeScript', 'PHP', 'SQL', 'C', 'C++', 'C#',\n",
    "             'Ruby', 'R', 'Matlab', 'Go', 'Rust', 'Objective-C', 'Swift', 'Visual Basic',\n",
    "             'Perl', 'Cobol', 'Fortran', 'Lisp', 'Assembly', 'Kotlin', 'Dart', 'Scala',\n",
    "             'Lua', 'Delphi', 'Haskell', 'Julia', 'Clojure', 'Elixir', 'Pascal']"
   ]
  },
  {
   "cell_type": "markdown",
   "id": "0ea92773",
   "metadata": {},
   "source": [
    "## Load data"
   ]
  },
  {
   "cell_type": "code",
   "execution_count": 2,
   "id": "4e5b4f4d",
   "metadata": {},
   "outputs": [
    {
     "name": "stdout",
     "output_type": "stream",
     "text": [
      "{'timestamp': '2024/01/30 9:40:43 am GMT-7', 'languages': 'Python;SQL', 'years': '1 - 5'}\n",
      "{'timestamp': '2024/01/30 9:45:28 am GMT-7', 'languages': 'Python', 'years': '5 - 10'}\n",
      "{'timestamp': '2024/01/30 10:02:42 am GMT-7', 'languages': 'Python', 'years': '1 - 5'}\n",
      "{'timestamp': '2024/01/30 10:02:59 am GMT-7', 'languages': 'Java;JavaScript;SQL;C;C++;Visual Basic;Perl;Cobol;Fortran;Assembly;Pascal', 'years': '> 20'}\n",
      "{'timestamp': '2024/01/30 10:03:28 am GMT-7', 'languages': 'Python;Perl', 'years': '> 20'}\n",
      "{'timestamp': '2024/01/30 10:03:35 am GMT-7', 'languages': 'JavaScript;TypeScript;PHP;SQL;C++;Visual Basic;Perl', 'years': '> 20'}\n",
      "{'timestamp': '2024/01/30 10:03:37 am GMT-7', 'languages': 'Python;Java;C++;Perl', 'years': '1 - 5'}\n",
      "{'timestamp': '2024/01/30 10:03:49 am GMT-7', 'languages': 'Python;Java;JavaScript;TypeScript;PHP;SQL;Ruby;R;Objective-C;Swift;Perl;Kotlin;Dart', 'years': '> 20'}\n",
      "{'timestamp': '2024/01/30 10:06:50 am GMT-7', 'languages': 'Python;Java;JavaScript;SQL;C;C++;Matlab;Visual Basic;Cobol;Fortran;Assembly', 'years': '> 20'}\n",
      "{'timestamp': '2024/01/30 10:10:51 am GMT-7', 'languages': 'Java;JavaScript', 'years': '15 - 20'}\n",
      "{'timestamp': '2024/01/30 10:14:33 am GMT-7', 'languages': 'Python;Java;JavaScript;SQL;C;C++', 'years': '15 - 20'}\n",
      "{'timestamp': '2024/01/30 10:26:37 am GMT-7', 'languages': 'Python;SQL;C;R', 'years': '1 - 5'}\n",
      "{'timestamp': '2024/01/30 10:26:50 am GMT-7', 'languages': 'Java;C++', 'years': '15 - 20'}\n",
      "{'timestamp': '2024/01/30 10:27:18 am GMT-7', 'languages': 'SQL;R', 'years': '1 - 5'}\n",
      "{'timestamp': '2024/01/30 10:27:28 am GMT-7', 'languages': 'Python;Java', 'years': ''}\n",
      "{'timestamp': '2024/01/30 10:27:44 am GMT-7', 'languages': 'Ruby;Fortran;Lisp', 'years': '5 - 10'}\n",
      "{'timestamp': '2024/01/30 10:28:46 am GMT-7', 'languages': 'Python;Java;C#;Ruby;Visual Basic;Cobol;Pascal', 'years': '> 20'}\n",
      "{'timestamp': '2024/01/30 10:30:13 am GMT-7', 'languages': 'SQL', 'years': '10 - 15'}\n",
      "{'timestamp': '2024/01/30 10:36:15 am GMT-7', 'languages': 'Python;Java;JavaScript;C;Rust', 'years': '10 - 15'}\n",
      "{'timestamp': '2024/01/30 11:45:33 am GMT-7', 'languages': 'Python;JavaScript;Perl', 'years': '1 - 5'}\n",
      "{'timestamp': '2024/01/30 11:45:55 am GMT-7', 'languages': 'Java;SQL;C#', 'years': '10 - 15'}\n",
      "{'timestamp': '2024/01/30 11:46:07 am GMT-7', 'languages': 'Python;Java', 'years': '1 - 5'}\n",
      "{'timestamp': '2024/01/30 11:46:24 am GMT-7', 'languages': 'Python;JavaScript;SQL;C', 'years': '1 - 5'}\n",
      "{'timestamp': '2024/01/30 11:48:04 am GMT-7', 'languages': 'Python;SQL;C;C++', 'years': '1 - 5'}\n",
      "{'timestamp': '2024/01/30 11:48:28 am GMT-7', 'languages': 'Python;Java;JavaScript', 'years': '1 - 5'}\n",
      "{'timestamp': '2024/01/30 12:10:37 pm GMT-7', 'languages': 'Python;Java;JavaScript;TypeScript;SQL;C;C++', 'years': '1 - 5'}\n",
      "{'timestamp': '2024/01/30 12:24:02 pm GMT-7', 'languages': 'JavaScript;Matlab;Cobol;Fortran;Assembly;Pascal', 'years': '> 20'}\n",
      "{'timestamp': '2024/02/29 8:17:01 pm GMT-7', 'languages': 'Python;C', 'years': '5 - 10'}\n",
      "{'timestamp': '2024/03/25 7:35:39 pm GMT-6', 'languages': 'Python;JavaScript;C;Perl', 'years': '15 - 20'}\n",
      "{'timestamp': '2024/03/25 8:23:58 pm GMT-6', 'languages': 'Python', 'years': '< 1'}\n",
      "{'timestamp': '2024/03/26 3:13:46 am GMT-6', 'languages': 'Python;SQL', 'years': '1 - 5'}\n",
      "{'timestamp': '2024/03/26 7:40:45 am GMT-6', 'languages': 'Python;Java;JavaScript;SQL;C;C++;Perl;Kotlin;Pascal', 'years': '> 20'}\n",
      "{'timestamp': '2024/03/26 8:37:35 am GMT-6', 'languages': 'Python;C', 'years': '< 1'}\n",
      "{'timestamp': '2024/03/26 9:27:38 am GMT-6', 'languages': 'C++', 'years': '10 - 15'}\n",
      "{'timestamp': '2024/03/26 10:03:59 am GMT-6', 'languages': 'Python;PHP;SQL;Visual Basic', 'years': '1 - 5'}\n",
      "{'timestamp': '2024/03/26 10:04:01 am GMT-6', 'languages': 'Python;JavaScript;SQL;R', 'years': '1 - 5'}\n",
      "{'timestamp': '2024/03/26 10:04:02 am GMT-6', 'languages': 'Python;Java;JavaScript;TypeScript;SQL;C;R;Perl;Lisp;Haskell', 'years': '> 20'}\n",
      "{'timestamp': '2024/03/26 10:04:10 am GMT-6', 'languages': 'Java;SQL;C;C#;Assembly', 'years': '> 20'}\n",
      "{'timestamp': '2024/03/26 10:04:23 am GMT-6', 'languages': 'Python;SQL', 'years': '1 - 5'}\n",
      "{'timestamp': '2024/03/26 10:04:32 am GMT-6', 'languages': 'Python;SQL;C;C++;Perl', 'years': '5 - 10'}\n",
      "{'timestamp': '2024/03/26 10:04:37 am GMT-6', 'languages': 'Python;SQL;C;C++;C#;Visual Basic;Pascal', 'years': '> 20'}\n",
      "{'timestamp': '2024/03/26 10:04:37 am GMT-6', 'languages': 'Java', 'years': '1 - 5'}\n",
      "{'timestamp': '2024/03/26 10:04:38 am GMT-6', 'languages': 'Python;Java;JavaScript;SQL;C', 'years': '15 - 20'}\n",
      "{'timestamp': '2024/03/26 10:04:48 am GMT-6', 'languages': 'Python;JavaScript;SQL', 'years': '1 - 5'}\n",
      "{'timestamp': '2024/03/26 10:04:52 am GMT-6', 'languages': 'C;C++', 'years': '> 20'}\n",
      "{'timestamp': '2024/03/26 10:04:55 am GMT-6', 'languages': 'Java;SQL', 'years': '> 20'}\n",
      "{'timestamp': '2024/03/26 10:05:05 am GMT-6', 'languages': 'Java;Kotlin', 'years': '10 - 15'}\n",
      "{'timestamp': '2024/03/26 10:05:26 am GMT-6', 'languages': 'Python;SQL;C++;Perl;Cobol;Pascal', 'years': '> 20'}\n",
      "{'timestamp': '2024/03/26 10:05:32 am GMT-6', 'languages': 'Python;SQL;C;C++;C#;Matlab;Pascal', 'years': '15 - 20'}\n",
      "{'timestamp': '2024/03/26 10:05:48 am GMT-6', 'languages': 'Python;SQL;Visual Basic', 'years': '> 20'}\n",
      "{'timestamp': '2024/03/26 10:11:25 am GMT-6', 'languages': 'Python;C;C++;C#;Matlab;Perl', 'years': '5 - 10'}\n",
      "{'timestamp': '2024/03/26 10:32:14 am GMT-6', 'languages': 'Python;PHP;SQL;Visual Basic', 'years': '1 - 5'}\n",
      "{'timestamp': '2024/03/26 10:34:02 am GMT-6', 'languages': 'Python;Java;C;C++;Perl', 'years': '5 - 10'}\n",
      "{'timestamp': '2024/03/26 10:35:29 am GMT-6', 'languages': 'Java;SQL;C++', 'years': '10 - 15'}\n"
     ]
    }
   ],
   "source": [
    "import csv\n",
    "\n",
    "with open('data/Survey-2024-Mar.csv') as file:\n",
    "    file.readline()  # Ignore first line (header)\n",
    "    reader = csv.DictReader(file, fieldnames=('timestamp', 'languages', 'years'))  # list of dicts with keys passed into fieldnames\n",
    "    for line in reader:\n",
    "        print(line)"
   ]
  },
  {
   "cell_type": "markdown",
   "id": "2b06bc8f",
   "metadata": {},
   "source": [
    "## Find number of languages known\n",
    "Print `\"{# known by class} / {# in list} languages known by this class (as %)\"`.\n",
    "\n",
    "E.g. **12/21 languages known by this class (57%)**"
   ]
  },
  {
   "cell_type": "code",
   "execution_count": 26,
   "id": "3176e029",
   "metadata": {},
   "outputs": [
    {
     "name": "stdout",
     "output_type": "stream",
     "text": [
      "0.78125\n"
     ]
    }
   ],
   "source": [
    "setLanguage=set()\n",
    "with open('data/Survey-2024-Mar.csv') as file:\n",
    "    file.readline()  # Ignore first line (header)\n",
    "    reader = csv.DictReader(file, fieldnames=('timestamp', 'languages', 'years'))  # list of dicts with keys passed into fieldnames\n",
    "    for line in reader:\n",
    "        languageList=line['languages'].split(';')\n",
    "        for i in languageList:\n",
    "            setLanguage.add(i)\n",
    "\n",
    "print(len(setLanguage)/len(all_langs))"
   ]
  },
  {
   "cell_type": "markdown",
   "id": "98a40025",
   "metadata": {},
   "source": [
    "## List languages not known by anyone in the class"
   ]
  },
  {
   "cell_type": "code",
   "execution_count": 24,
   "id": "0ea84dac",
   "metadata": {},
   "outputs": [
    {
     "name": "stdout",
     "output_type": "stream",
     "text": [
      "0.78125\n"
     ]
    }
   ],
   "source": []
  },
  {
   "cell_type": "code",
   "execution_count": 23,
   "id": "50cd2771",
   "metadata": {},
   "outputs": [
    {
     "name": "stdout",
     "output_type": "stream",
     "text": [
      "{'Swift', 'Fortran', 'JavaScript', 'Kotlin', 'R', 'Rust', 'C++', 'Assembly', 'C', 'Haskell', 'Dart', 'Objective-C', 'Perl', 'PHP', 'TypeScript', 'Matlab', 'Visual Basic', 'Cobol', 'Ruby', 'Java', 'SQL', 'Python', 'Pascal', 'Lisp', 'C#'}\n"
     ]
    }
   ],
   "source": [
    "print(setLanguage)"
   ]
  },
  {
   "cell_type": "markdown",
   "id": "a6e1d57b",
   "metadata": {},
   "source": [
    "## Rank languages by most commonly known\n",
    "Print each language as `\"{position}: {language} ({percent_known}%)\"`, in order from most to least known\n",
    "\n",
    "e.g. **1: Python (93%)**"
   ]
  },
  {
   "cell_type": "code",
   "execution_count": null,
   "id": "eed70ade",
   "metadata": {},
   "outputs": [],
   "source": []
  }
 ],
 "metadata": {
  "jupytext": {
   "cell_metadata_filter": "-all",
   "formats": "auto:light,ipynb",
   "main_language": "python",
   "notebook_metadata_filter": "-all"
  },
  "kernelspec": {
   "display_name": "Python 3 (ipykernel)",
   "language": "python",
   "name": "python3"
  },
  "language_info": {
   "codemirror_mode": {
    "name": "ipython",
    "version": 3
   },
   "file_extension": ".py",
   "mimetype": "text/x-python",
   "name": "python",
   "nbconvert_exporter": "python",
   "pygments_lexer": "ipython3",
   "version": "3.9.6"
  }
 },
 "nbformat": 4,
 "nbformat_minor": 5
}
